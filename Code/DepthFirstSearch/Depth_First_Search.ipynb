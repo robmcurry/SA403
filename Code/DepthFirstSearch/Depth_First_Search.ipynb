{
  "nbformat": 4,
  "nbformat_minor": 0,
  "metadata": {
    "colab": {
      "name": "Depth_First_Search.ipynb",
      "provenance": [],
      "collapsed_sections": []
    },
    "kernelspec": {
      "name": "python3",
      "display_name": "Python 3"
    },
    "language_info": {
      "name": "python"
    }
  },
  "cells": [
    {
      "cell_type": "markdown",
      "metadata": {
        "id": "jTVDrVOzijSl"
      },
      "source": [
        "Depth First Search "
      ]
    },
    {
      "cell_type": "code",
      "metadata": {
        "id": "OKcMx3YuinmX"
      },
      "source": [
        "#Add set of nodes\n",
        "Nodes = [1,2,3,4,5]"
      ],
      "execution_count": null,
      "outputs": []
    },
    {
      "cell_type": "code",
      "metadata": {
        "id": "bPSTKvQsixwr"
      },
      "source": [
        "#Add set of arcs/edges\n",
        "Edges = [[1,2],[1,3],[2,4],[2,5]]"
      ],
      "execution_count": null,
      "outputs": []
    },
    {
      "cell_type": "code",
      "metadata": {
        "id": "I3ozvbgNi19p"
      },
      "source": [
        "#Introduce stack S\n",
        "S = []\n",
        "S.append(1)"
      ],
      "execution_count": null,
      "outputs": []
    },
    {
      "cell_type": "code",
      "metadata": {
        "id": "B_13XusNjnOC"
      },
      "source": [
        "#Introduce explored parameter\n",
        "explored = {}\n",
        "for i in Nodes:\n",
        "  explored[i] = 0\n",
        "explored[1] = 1"
      ],
      "execution_count": null,
      "outputs": []
    },
    {
      "cell_type": "code",
      "metadata": {
        "id": "nHppBlrOl3bT"
      },
      "source": [
        "# Introduce parent parameter\n",
        "parent = {}\n",
        "for i in Nodes:\n",
        "  parent[i] = -1"
      ],
      "execution_count": null,
      "outputs": []
    },
    {
      "cell_type": "code",
      "metadata": {
        "id": "whOvmYTSj20P"
      },
      "source": [
        "while S != []:\n",
        "  v = S[0]\n",
        "  S.remove(v)\n",
        "  for w in Nodes:\n",
        "    if [v,w] in Edges and explored[w] == 0:\n",
        "      S.append(w)\n",
        "      explored[w] = 1\n",
        "      parent[w] = v\n",
        "\n"
      ],
      "execution_count": null,
      "outputs": []
    },
    {
      "cell_type": "code",
      "metadata": {
        "colab": {
          "base_uri": "https://localhost:8080/"
        },
        "id": "nkLbpVgGmaEC",
        "outputId": "be25a0e4-bd7e-419a-9d32-abbd6c893bb5"
      },
      "source": [
        "print(parent)"
      ],
      "execution_count": null,
      "outputs": [
        {
          "output_type": "stream",
          "text": [
            "{1: -1, 2: 1, 3: 1, 4: 2, 5: 2}\n"
          ],
          "name": "stdout"
        }
      ]
    }
  ]
}